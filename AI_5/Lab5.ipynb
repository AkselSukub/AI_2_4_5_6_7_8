{
  "cells": [
    {
      "cell_type": "markdown",
      "metadata": {
        "id": "vFxNZ_84tH9c"
      },
      "source": [
        "# Лабораторная работа 5. Разработка единого шаблона предварительной обработки данных"
      ]
    },
    {
      "cell_type": "markdown",
      "metadata": {
        "id": "KV8HOsM9tH9f"
      },
      "source": [
        "## Подключение библиотек"
      ]
    },
    {
      "cell_type": "code",
      "execution_count": 33,
      "metadata": {
        "ExecuteTime": {
          "end_time": "2022-09-01T13:39:41.276470Z",
          "start_time": "2022-09-01T13:38:41.501192Z"
        },
        "id": "KS1LCVAQtH9h"
      },
      "outputs": [],
      "source": [
        "import numpy as np\n",
        "import matplotlib.pyplot as plt\n",
        "import pandas as pd"
      ]
    },
    {
      "cell_type": "markdown",
      "metadata": {
        "id": "VgOL9bZZtH9i"
      },
      "source": [
        "## Загрузка данных и разделение на матрицу признаков и зависимую переменную"
      ]
    },
    {
      "cell_type": "code",
      "execution_count": 34,
      "metadata": {
        "ExecuteTime": {
          "end_time": "2022-09-01T13:53:50.245007Z",
          "start_time": "2022-09-01T13:53:50.233000Z"
        },
        "colab": {
          "base_uri": "https://localhost:8080/",
          "height": 206
        },
        "id": "Qv9ch9IjtH9j",
        "outputId": "2b1aa738-ad17-4440-9363-f98db59e53ee"
      },
      "outputs": [
        {
          "output_type": "execute_result",
          "data": {
            "text/plain": [
              "       Genre  Age  Income Favorite\n",
              "0     Action   28   60000      Yes\n",
              "1  Adventure   35   65000       No\n",
              "2     Comedy   30   55000      Yes\n",
              "3      Drama   32   58000      Yes\n",
              "4     Horror   26   52000       No"
            ],
            "text/html": [
              "\n",
              "  <div id=\"df-88310842-4f77-42bc-8d3a-f27ea57c6d9e\" class=\"colab-df-container\">\n",
              "    <div>\n",
              "<style scoped>\n",
              "    .dataframe tbody tr th:only-of-type {\n",
              "        vertical-align: middle;\n",
              "    }\n",
              "\n",
              "    .dataframe tbody tr th {\n",
              "        vertical-align: top;\n",
              "    }\n",
              "\n",
              "    .dataframe thead th {\n",
              "        text-align: right;\n",
              "    }\n",
              "</style>\n",
              "<table border=\"1\" class=\"dataframe\">\n",
              "  <thead>\n",
              "    <tr style=\"text-align: right;\">\n",
              "      <th></th>\n",
              "      <th>Genre</th>\n",
              "      <th>Age</th>\n",
              "      <th>Income</th>\n",
              "      <th>Favorite</th>\n",
              "    </tr>\n",
              "  </thead>\n",
              "  <tbody>\n",
              "    <tr>\n",
              "      <th>0</th>\n",
              "      <td>Action</td>\n",
              "      <td>28</td>\n",
              "      <td>60000</td>\n",
              "      <td>Yes</td>\n",
              "    </tr>\n",
              "    <tr>\n",
              "      <th>1</th>\n",
              "      <td>Adventure</td>\n",
              "      <td>35</td>\n",
              "      <td>65000</td>\n",
              "      <td>No</td>\n",
              "    </tr>\n",
              "    <tr>\n",
              "      <th>2</th>\n",
              "      <td>Comedy</td>\n",
              "      <td>30</td>\n",
              "      <td>55000</td>\n",
              "      <td>Yes</td>\n",
              "    </tr>\n",
              "    <tr>\n",
              "      <th>3</th>\n",
              "      <td>Drama</td>\n",
              "      <td>32</td>\n",
              "      <td>58000</td>\n",
              "      <td>Yes</td>\n",
              "    </tr>\n",
              "    <tr>\n",
              "      <th>4</th>\n",
              "      <td>Horror</td>\n",
              "      <td>26</td>\n",
              "      <td>52000</td>\n",
              "      <td>No</td>\n",
              "    </tr>\n",
              "  </tbody>\n",
              "</table>\n",
              "</div>\n",
              "    <div class=\"colab-df-buttons\">\n",
              "\n",
              "  <div class=\"colab-df-container\">\n",
              "    <button class=\"colab-df-convert\" onclick=\"convertToInteractive('df-88310842-4f77-42bc-8d3a-f27ea57c6d9e')\"\n",
              "            title=\"Convert this dataframe to an interactive table.\"\n",
              "            style=\"display:none;\">\n",
              "\n",
              "  <svg xmlns=\"http://www.w3.org/2000/svg\" height=\"24px\" viewBox=\"0 -960 960 960\">\n",
              "    <path d=\"M120-120v-720h720v720H120Zm60-500h600v-160H180v160Zm220 220h160v-160H400v160Zm0 220h160v-160H400v160ZM180-400h160v-160H180v160Zm440 0h160v-160H620v160ZM180-180h160v-160H180v160Zm440 0h160v-160H620v160Z\"/>\n",
              "  </svg>\n",
              "    </button>\n",
              "\n",
              "  <style>\n",
              "    .colab-df-container {\n",
              "      display:flex;\n",
              "      gap: 12px;\n",
              "    }\n",
              "\n",
              "    .colab-df-convert {\n",
              "      background-color: #E8F0FE;\n",
              "      border: none;\n",
              "      border-radius: 50%;\n",
              "      cursor: pointer;\n",
              "      display: none;\n",
              "      fill: #1967D2;\n",
              "      height: 32px;\n",
              "      padding: 0 0 0 0;\n",
              "      width: 32px;\n",
              "    }\n",
              "\n",
              "    .colab-df-convert:hover {\n",
              "      background-color: #E2EBFA;\n",
              "      box-shadow: 0px 1px 2px rgba(60, 64, 67, 0.3), 0px 1px 3px 1px rgba(60, 64, 67, 0.15);\n",
              "      fill: #174EA6;\n",
              "    }\n",
              "\n",
              "    .colab-df-buttons div {\n",
              "      margin-bottom: 4px;\n",
              "    }\n",
              "\n",
              "    [theme=dark] .colab-df-convert {\n",
              "      background-color: #3B4455;\n",
              "      fill: #D2E3FC;\n",
              "    }\n",
              "\n",
              "    [theme=dark] .colab-df-convert:hover {\n",
              "      background-color: #434B5C;\n",
              "      box-shadow: 0px 1px 3px 1px rgba(0, 0, 0, 0.15);\n",
              "      filter: drop-shadow(0px 1px 2px rgba(0, 0, 0, 0.3));\n",
              "      fill: #FFFFFF;\n",
              "    }\n",
              "  </style>\n",
              "\n",
              "    <script>\n",
              "      const buttonEl =\n",
              "        document.querySelector('#df-88310842-4f77-42bc-8d3a-f27ea57c6d9e button.colab-df-convert');\n",
              "      buttonEl.style.display =\n",
              "        google.colab.kernel.accessAllowed ? 'block' : 'none';\n",
              "\n",
              "      async function convertToInteractive(key) {\n",
              "        const element = document.querySelector('#df-88310842-4f77-42bc-8d3a-f27ea57c6d9e');\n",
              "        const dataTable =\n",
              "          await google.colab.kernel.invokeFunction('convertToInteractive',\n",
              "                                                    [key], {});\n",
              "        if (!dataTable) return;\n",
              "\n",
              "        const docLinkHtml = 'Like what you see? Visit the ' +\n",
              "          '<a target=\"_blank\" href=https://colab.research.google.com/notebooks/data_table.ipynb>data table notebook</a>'\n",
              "          + ' to learn more about interactive tables.';\n",
              "        element.innerHTML = '';\n",
              "        dataTable['output_type'] = 'display_data';\n",
              "        await google.colab.output.renderOutput(dataTable, element);\n",
              "        const docLink = document.createElement('div');\n",
              "        docLink.innerHTML = docLinkHtml;\n",
              "        element.appendChild(docLink);\n",
              "      }\n",
              "    </script>\n",
              "  </div>\n",
              "\n",
              "\n",
              "<div id=\"df-4d691745-773f-491d-a5ae-097a7fb10232\">\n",
              "  <button class=\"colab-df-quickchart\" onclick=\"quickchart('df-4d691745-773f-491d-a5ae-097a7fb10232')\"\n",
              "            title=\"Suggest charts\"\n",
              "            style=\"display:none;\">\n",
              "\n",
              "<svg xmlns=\"http://www.w3.org/2000/svg\" height=\"24px\"viewBox=\"0 0 24 24\"\n",
              "     width=\"24px\">\n",
              "    <g>\n",
              "        <path d=\"M19 3H5c-1.1 0-2 .9-2 2v14c0 1.1.9 2 2 2h14c1.1 0 2-.9 2-2V5c0-1.1-.9-2-2-2zM9 17H7v-7h2v7zm4 0h-2V7h2v10zm4 0h-2v-4h2v4z\"/>\n",
              "    </g>\n",
              "</svg>\n",
              "  </button>\n",
              "\n",
              "<style>\n",
              "  .colab-df-quickchart {\n",
              "      --bg-color: #E8F0FE;\n",
              "      --fill-color: #1967D2;\n",
              "      --hover-bg-color: #E2EBFA;\n",
              "      --hover-fill-color: #174EA6;\n",
              "      --disabled-fill-color: #AAA;\n",
              "      --disabled-bg-color: #DDD;\n",
              "  }\n",
              "\n",
              "  [theme=dark] .colab-df-quickchart {\n",
              "      --bg-color: #3B4455;\n",
              "      --fill-color: #D2E3FC;\n",
              "      --hover-bg-color: #434B5C;\n",
              "      --hover-fill-color: #FFFFFF;\n",
              "      --disabled-bg-color: #3B4455;\n",
              "      --disabled-fill-color: #666;\n",
              "  }\n",
              "\n",
              "  .colab-df-quickchart {\n",
              "    background-color: var(--bg-color);\n",
              "    border: none;\n",
              "    border-radius: 50%;\n",
              "    cursor: pointer;\n",
              "    display: none;\n",
              "    fill: var(--fill-color);\n",
              "    height: 32px;\n",
              "    padding: 0;\n",
              "    width: 32px;\n",
              "  }\n",
              "\n",
              "  .colab-df-quickchart:hover {\n",
              "    background-color: var(--hover-bg-color);\n",
              "    box-shadow: 0 1px 2px rgba(60, 64, 67, 0.3), 0 1px 3px 1px rgba(60, 64, 67, 0.15);\n",
              "    fill: var(--button-hover-fill-color);\n",
              "  }\n",
              "\n",
              "  .colab-df-quickchart-complete:disabled,\n",
              "  .colab-df-quickchart-complete:disabled:hover {\n",
              "    background-color: var(--disabled-bg-color);\n",
              "    fill: var(--disabled-fill-color);\n",
              "    box-shadow: none;\n",
              "  }\n",
              "\n",
              "  .colab-df-spinner {\n",
              "    border: 2px solid var(--fill-color);\n",
              "    border-color: transparent;\n",
              "    border-bottom-color: var(--fill-color);\n",
              "    animation:\n",
              "      spin 1s steps(1) infinite;\n",
              "  }\n",
              "\n",
              "  @keyframes spin {\n",
              "    0% {\n",
              "      border-color: transparent;\n",
              "      border-bottom-color: var(--fill-color);\n",
              "      border-left-color: var(--fill-color);\n",
              "    }\n",
              "    20% {\n",
              "      border-color: transparent;\n",
              "      border-left-color: var(--fill-color);\n",
              "      border-top-color: var(--fill-color);\n",
              "    }\n",
              "    30% {\n",
              "      border-color: transparent;\n",
              "      border-left-color: var(--fill-color);\n",
              "      border-top-color: var(--fill-color);\n",
              "      border-right-color: var(--fill-color);\n",
              "    }\n",
              "    40% {\n",
              "      border-color: transparent;\n",
              "      border-right-color: var(--fill-color);\n",
              "      border-top-color: var(--fill-color);\n",
              "    }\n",
              "    60% {\n",
              "      border-color: transparent;\n",
              "      border-right-color: var(--fill-color);\n",
              "    }\n",
              "    80% {\n",
              "      border-color: transparent;\n",
              "      border-right-color: var(--fill-color);\n",
              "      border-bottom-color: var(--fill-color);\n",
              "    }\n",
              "    90% {\n",
              "      border-color: transparent;\n",
              "      border-bottom-color: var(--fill-color);\n",
              "    }\n",
              "  }\n",
              "</style>\n",
              "\n",
              "  <script>\n",
              "    async function quickchart(key) {\n",
              "      const quickchartButtonEl =\n",
              "        document.querySelector('#' + key + ' button');\n",
              "      quickchartButtonEl.disabled = true;  // To prevent multiple clicks.\n",
              "      quickchartButtonEl.classList.add('colab-df-spinner');\n",
              "      try {\n",
              "        const charts = await google.colab.kernel.invokeFunction(\n",
              "            'suggestCharts', [key], {});\n",
              "      } catch (error) {\n",
              "        console.error('Error during call to suggestCharts:', error);\n",
              "      }\n",
              "      quickchartButtonEl.classList.remove('colab-df-spinner');\n",
              "      quickchartButtonEl.classList.add('colab-df-quickchart-complete');\n",
              "    }\n",
              "    (() => {\n",
              "      let quickchartButtonEl =\n",
              "        document.querySelector('#df-4d691745-773f-491d-a5ae-097a7fb10232 button');\n",
              "      quickchartButtonEl.style.display =\n",
              "        google.colab.kernel.accessAllowed ? 'block' : 'none';\n",
              "    })();\n",
              "  </script>\n",
              "</div>\n",
              "    </div>\n",
              "  </div>\n"
            ],
            "application/vnd.google.colaboratory.intrinsic+json": {
              "type": "dataframe",
              "variable_name": "dataset",
              "summary": "{\n  \"name\": \"dataset\",\n  \"rows\": 10,\n  \"fields\": [\n    {\n      \"column\": \"Genre\",\n      \"properties\": {\n        \"dtype\": \"string\",\n        \"num_unique_values\": 10,\n        \"samples\": [\n          \"Animation\",\n          \"Adventure\",\n          \"Sci-Fi\"\n        ],\n        \"semantic_type\": \"\",\n        \"description\": \"\"\n      }\n    },\n    {\n      \"column\": \"Age\",\n      \"properties\": {\n        \"dtype\": \"number\",\n        \"std\": 3,\n        \"min\": 26,\n        \"max\": 37,\n        \"num_unique_values\": 10,\n        \"samples\": [\n          29,\n          35,\n          37\n        ],\n        \"semantic_type\": \"\",\n        \"description\": \"\"\n      }\n    },\n    {\n      \"column\": \"Income\",\n      \"properties\": {\n        \"dtype\": \"number\",\n        \"std\": 4931,\n        \"min\": 52000,\n        \"max\": 68000,\n        \"num_unique_values\": 10,\n        \"samples\": [\n          56000,\n          65000,\n          68000\n        ],\n        \"semantic_type\": \"\",\n        \"description\": \"\"\n      }\n    },\n    {\n      \"column\": \"Favorite\",\n      \"properties\": {\n        \"dtype\": \"category\",\n        \"num_unique_values\": 2,\n        \"samples\": [\n          \"No\",\n          \"Yes\"\n        ],\n        \"semantic_type\": \"\",\n        \"description\": \"\"\n      }\n    }\n  ]\n}"
            }
          },
          "metadata": {},
          "execution_count": 34
        }
      ],
      "source": [
        "dataset = pd.read_csv('/content/data5.csv')\n",
        "dataset.head()"
      ]
    },
    {
      "cell_type": "code",
      "execution_count": 35,
      "metadata": {
        "ExecuteTime": {
          "end_time": "2022-09-01T13:56:05.100222Z",
          "start_time": "2022-09-01T13:56:05.094217Z"
        },
        "colab": {
          "base_uri": "https://localhost:8080/"
        },
        "id": "Ku9VWXYctH9l",
        "outputId": "38276180-ddb7-473b-8b26-b751ef9615a4"
      },
      "outputs": [
        {
          "output_type": "stream",
          "name": "stdout",
          "text": [
            "Матрица признаков\n",
            "[['Action' 28 60000]\n",
            " ['Adventure' 35 65000]\n",
            " ['Comedy' 30 55000]\n",
            " ['Drama' 32 58000]\n",
            " ['Horror' 26 52000]\n",
            " ['Sci-Fi' 37 68000]\n",
            " ['Thriller' 31 59000]\n",
            " ['Documentary' 33 62000]\n",
            " ['Animation' 29 56000]\n",
            " ['Mystery' 34 64000]]\n",
            "Зависимая переменная\n",
            "['Yes' 'No' 'Yes' 'Yes' 'No' 'Yes' 'No' 'Yes' 'Yes' 'No']\n"
          ]
        }
      ],
      "source": [
        "X = dataset.iloc[:, :-1].values\n",
        "y = dataset.iloc[:, 3].values\n",
        "print (\"Матрица признаков\"); print(X)\n",
        "print (\"Зависимая переменная\"); print(y)"
      ]
    },
    {
      "cell_type": "markdown",
      "metadata": {
        "id": "9mvl_VZmtH9l"
      },
      "source": [
        "### 3. Обработка пропущенных значений"
      ]
    },
    {
      "cell_type": "code",
      "execution_count": 36,
      "metadata": {
        "ExecuteTime": {
          "end_time": "2022-09-01T13:56:07.540102Z",
          "start_time": "2022-09-01T13:56:07.534099Z"
        },
        "colab": {
          "base_uri": "https://localhost:8080/"
        },
        "id": "AnDAkFqNtH9m",
        "outputId": "4f289b83-0bf1-4415-cb7b-aba873deddcf"
      },
      "outputs": [
        {
          "output_type": "stream",
          "name": "stdout",
          "text": [
            "[['Action' 28.0 60000.0]\n",
            " ['Adventure' 35.0 65000.0]\n",
            " ['Comedy' 30.0 55000.0]\n",
            " ['Drama' 32.0 58000.0]\n",
            " ['Horror' 26.0 52000.0]\n",
            " ['Sci-Fi' 37.0 68000.0]\n",
            " ['Thriller' 31.0 59000.0]\n",
            " ['Documentary' 33.0 62000.0]\n",
            " ['Animation' 29.0 56000.0]\n",
            " ['Mystery' 34.0 64000.0]]\n"
          ]
        },
        {
          "output_type": "stream",
          "name": "stderr",
          "text": [
            "/usr/local/lib/python3.10/dist-packages/sklearn/impute/_base.py:382: FutureWarning: The 'verbose' parameter was deprecated in version 1.1 and will be removed in 1.3. A warning will always be raised upon the removal of empty columns in the future version.\n",
            "  warnings.warn(\n"
          ]
        }
      ],
      "source": [
        "# устаревший подход\n",
        "from sklearn.impute import SimpleImputer\n",
        "imputer = SimpleImputer(missing_values= np.NAN, strategy= 'mean', fill_value=None, verbose=0, copy=True)\n",
        "imputer = imputer.fit(X[:, 1:3])\n",
        "X_without_nan = X.copy()\n",
        "X_without_nan[:, 1:3] = imputer.transform(X[:, 1:3])\n",
        "print(X_without_nan)"
      ]
    },
    {
      "cell_type": "code",
      "execution_count": 37,
      "metadata": {
        "ExecuteTime": {
          "end_time": "2022-09-01T13:56:37.588899Z",
          "start_time": "2022-09-01T13:56:37.582895Z"
        },
        "colab": {
          "base_uri": "https://localhost:8080/"
        },
        "id": "kkvMeye0tH9m",
        "outputId": "1f16a3e6-58a7-4400-c758-0b2252c705ce"
      },
      "outputs": [
        {
          "output_type": "execute_result",
          "data": {
            "text/plain": [
              "array([['Action', 28.0, 60000.0],\n",
              "       ['Adventure', 35.0, 65000.0],\n",
              "       ['Comedy', 30.0, 55000.0],\n",
              "       ['Drama', 32.0, 58000.0],\n",
              "       ['Horror', 26.0, 52000.0],\n",
              "       ['Sci-Fi', 37.0, 68000.0],\n",
              "       ['Thriller', 31.0, 59000.0],\n",
              "       ['Documentary', 33.0, 62000.0],\n",
              "       ['Animation', 29.0, 56000.0],\n",
              "       ['Mystery', 34.0, 64000.0]], dtype=object)"
            ]
          },
          "metadata": {},
          "execution_count": 37
        }
      ],
      "source": [
        "# Новая версия класса-трансформера, предыдущая Imputer - устарела\n",
        "from sklearn.impute import SimpleImputer\n",
        "imputer = SimpleImputer(missing_values = np.nan, strategy = 'mean')\n",
        "imputer = imputer.fit(X[:, 1:3])\n",
        "X_without_nan = X.copy()\n",
        "X_without_nan[:, 1:3] = imputer.transform(X[:, 1:3])\n",
        "X_without_nan"
      ]
    },
    {
      "cell_type": "markdown",
      "metadata": {
        "id": "HcMbMz7rtH9n"
      },
      "source": [
        "### 4. Обработка категориальных данных"
      ]
    },
    {
      "cell_type": "markdown",
      "metadata": {
        "id": "O_3klxfPtH9o"
      },
      "source": [
        "#### 4.1 Замена категории кодом (LabelEncoder)"
      ]
    },
    {
      "cell_type": "code",
      "execution_count": 38,
      "metadata": {
        "ExecuteTime": {
          "end_time": "2022-09-01T13:56:52.466944Z",
          "start_time": "2022-09-01T13:56:52.462942Z"
        },
        "colab": {
          "base_uri": "https://localhost:8080/"
        },
        "id": "D2yjZRNztH9o",
        "outputId": "a8bb8ea4-1595-42ff-eb65-5b1ae7d30389"
      },
      "outputs": [
        {
          "output_type": "stream",
          "name": "stdout",
          "text": [
            "Зависимая переменная до обработки\n",
            "['Yes' 'No' 'Yes' 'Yes' 'No' 'Yes' 'No' 'Yes' 'Yes' 'No']\n",
            "Зависимая переменная после обработки\n",
            "[1 0 1 1 0 1 0 1 1 0]\n"
          ]
        }
      ],
      "source": [
        "from sklearn.preprocessing import LabelEncoder\n",
        "labelencoder_y = LabelEncoder()\n",
        "print(\"Зависимая переменная до обработки\")\n",
        "print(y)\n",
        "y = labelencoder_y.fit_transform(y)\n",
        "print(\"Зависимая переменная после обработки\")\n",
        "print(y)"
      ]
    },
    {
      "cell_type": "markdown",
      "metadata": {
        "id": "Qssrc_iYtH9p"
      },
      "source": [
        "#### 4.2 Применение OneHotEncoder"
      ]
    },
    {
      "cell_type": "code",
      "execution_count": 39,
      "metadata": {
        "ExecuteTime": {
          "end_time": "2022-09-01T14:12:54.765078Z",
          "start_time": "2022-09-01T14:12:54.760075Z"
        },
        "colab": {
          "base_uri": "https://localhost:8080/"
        },
        "id": "o0BLDQt_tH9q",
        "outputId": "79f4cf4c-566e-4a66-adb7-eb83618ba14e"
      },
      "outputs": [
        {
          "output_type": "execute_result",
          "data": {
            "text/plain": [
              "array([['Action', 28, 60000],\n",
              "       ['Adventure', 35, 65000],\n",
              "       ['Comedy', 30, 55000],\n",
              "       ['Drama', 32, 58000],\n",
              "       ['Horror', 26, 52000],\n",
              "       ['Sci-Fi', 37, 68000],\n",
              "       ['Thriller', 31, 59000],\n",
              "       ['Documentary', 33, 62000],\n",
              "       ['Animation', 29, 56000],\n",
              "       ['Mystery', 34, 64000]], dtype=object)"
            ]
          },
          "metadata": {},
          "execution_count": 39
        }
      ],
      "source": [
        "# создаем копию \"грязного\" объекта: спропусками и некодированными категориями\n",
        "X_dirty = X.copy()\n",
        "X_dirty"
      ]
    },
    {
      "cell_type": "code",
      "execution_count": 40,
      "metadata": {
        "ExecuteTime": {
          "end_time": "2022-09-01T14:21:47.502887Z",
          "start_time": "2022-09-01T14:21:47.492881Z"
        },
        "colab": {
          "base_uri": "https://localhost:8080/"
        },
        "id": "qVhlA9tLtH9q",
        "outputId": "18f9ee77-6b78-4509-c51f-b25c7352f96a"
      },
      "outputs": [
        {
          "output_type": "stream",
          "name": "stdout",
          "text": [
            "(10, 12)\n"
          ]
        },
        {
          "output_type": "execute_result",
          "data": {
            "text/plain": [
              "<10x12 sparse matrix of type '<class 'numpy.float64'>'\n",
              "\twith 30 stored elements in Compressed Sparse Row format>"
            ]
          },
          "metadata": {},
          "execution_count": 40
        }
      ],
      "source": [
        "# Современный метод трансформации признаков\n",
        "from sklearn.preprocessing import OneHotEncoder\n",
        "from sklearn.impute import SimpleImputer\n",
        "from sklearn.compose import ColumnTransformer\n",
        "\n",
        "# создаем список трансформеров\n",
        "transformers = [\n",
        "    ('onehot', OneHotEncoder(), [0]),\n",
        "    ('imp', SimpleImputer(), [1, 2])\n",
        "]\n",
        "\n",
        "# Создаем объект ColumnTransformer и передаем ему список трансформеров\n",
        "ct = ColumnTransformer(transformers)\n",
        "\n",
        "# Выполняем трансформацию признаков\n",
        "X_transformed = ct.fit_transform(X_dirty)\n",
        "print(X_transformed.shape)\n",
        "X_transformed"
      ]
    }
  ],
  "metadata": {
    "kernelspec": {
      "display_name": "Python 3",
      "language": "python",
      "name": "python3"
    },
    "language_info": {
      "codemirror_mode": {
        "name": "ipython",
        "version": 3
      },
      "file_extension": ".py",
      "mimetype": "text/x-python",
      "name": "python",
      "nbconvert_exporter": "python",
      "pygments_lexer": "ipython3",
      "version": "3.6.6"
    },
    "toc": {
      "base_numbering": 1,
      "nav_menu": {},
      "number_sections": true,
      "sideBar": true,
      "skip_h1_title": false,
      "title_cell": "Table of Contents",
      "title_sidebar": "Contents",
      "toc_cell": false,
      "toc_position": {},
      "toc_section_display": true,
      "toc_window_display": false
    },
    "colab": {
      "provenance": []
    }
  },
  "nbformat": 4,
  "nbformat_minor": 0
}